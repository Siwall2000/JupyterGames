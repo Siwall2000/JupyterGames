{
 "cells": [
  {
   "cell_type": "code",
   "execution_count": null,
   "id": "42b5cd2b",
   "metadata": {},
   "outputs": [],
   "source": [
    "from b2d.testbed.backend.jupyter import JupyterGui\n",
    "import ipywidgets\n",
    "import ipycanvas\n",
    "import b2d\n",
    "import random\n",
    "from b2d.testbed import TestbedBase"
   ]
  },
  {
   "cell_type": "code",
   "execution_count": null,
   "id": "6176a16a",
   "metadata": {},
   "outputs": [],
   "source": [
    "from plot_newtons_cradle import NewtonsCradle as Example\n",
    "\n",
    "s = JupyterGui.Settings(resolution=[800, 300])\n",
    "Example.run(JupyterGui, gui_settings=s)"
   ]
  }
 ],
 "metadata": {
  "kernelspec": {
   "display_name": "jupytergames",
   "language": "python",
   "name": "jupytergames"
  },
  "language_info": {
   "codemirror_mode": {
    "name": "ipython",
    "version": 3
   },
   "file_extension": ".py",
   "mimetype": "text/x-python",
   "name": "python",
   "nbconvert_exporter": "python",
   "pygments_lexer": "ipython3",
   "version": "3.10.13"
  }
 },
 "nbformat": 4,
 "nbformat_minor": 5
}

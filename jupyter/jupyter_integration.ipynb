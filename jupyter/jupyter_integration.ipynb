{
 "cells": [
  {
   "cell_type": "code",
   "execution_count": 1,
   "id": "42b5cd2b",
   "metadata": {},
   "outputs": [],
   "source": [
    "from b2d.testbed.backend.jupyter import JupyterGui\n",
    "import ipywidgets\n",
    "import ipycanvas\n",
    "import b2d\n",
    "import random\n",
    "from b2d.testbed import TestbedBase"
   ]
  },
  {
   "cell_type": "code",
   "execution_count": 2,
   "id": "6176a16a",
   "metadata": {},
   "outputs": [
    {
     "data": {
      "application/vnd.jupyter.widget-view+json": {
       "model_id": "b050cee7fa0e4660ac4b7f790e5667bb",
       "version_major": 2,
       "version_minor": 0
      },
      "text/plain": [
       "Output()"
      ]
     },
     "metadata": {},
     "output_type": "display_data"
    },
    {
     "data": {
      "text/plain": [
       "<b2d.testbed.backend.jupyter.jupyter_gui.JupyterGui at 0x1d4630c2b00>"
      ]
     },
     "execution_count": 2,
     "metadata": {},
     "output_type": "execute_result"
    }
   ],
   "source": [
    "from plot_newtons_cradle import NewtonsCradle as Example\n",
    "\n",
    "s = JupyterGui.Settings(resolution=[800, 300])\n",
    "Example.run(JupyterGui, gui_settings=s)"
   ]
  },
  {
   "cell_type": "code",
   "execution_count": null,
   "id": "fc317dd5",
   "metadata": {},
   "outputs": [],
   "source": []
  }
 ],
 "metadata": {
  "kernelspec": {
   "display_name": "jupytergames",
   "language": "python",
   "name": "jupytergames"
  },
  "language_info": {
   "codemirror_mode": {
    "name": "ipython",
    "version": 3
   },
   "file_extension": ".py",
   "mimetype": "text/x-python",
   "name": "python",
   "nbconvert_exporter": "python",
   "pygments_lexer": "ipython3",
   "version": "3.10.13"
  }
 },
 "nbformat": 4,
 "nbformat_minor": 5
}
